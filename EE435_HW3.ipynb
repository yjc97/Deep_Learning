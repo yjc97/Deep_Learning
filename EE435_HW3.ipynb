{
 "cells": [
  {
   "cell_type": "markdown",
   "id": "8fdef8a4",
   "metadata": {},
   "source": [
    "# 13.4"
   ]
  },
  {
   "cell_type": "code",
   "execution_count": 308,
   "id": "57b568d1",
   "metadata": {},
   "outputs": [],
   "source": [
    "import matplotlib.pyplot as plt\n",
    "import sys\n",
    "sys.path.append('C:/Users/jeff8')\n",
    "datapath = 'C:/Users/jeff8/mlrefined_datasets/nonlinear_superlearn_datasets/'\n",
    "\n",
    "from autograd import numpy as np\n",
    "from autograd import value_and_grad\n",
    "from matplotlib import gridspec"
   ]
  },
  {
   "cell_type": "code",
   "execution_count": 309,
   "id": "1e90300d",
   "metadata": {},
   "outputs": [],
   "source": [
    "# Define\n",
    "\n",
    "def feature_transforms (a, w):\n",
    "    # loop through each layer\n",
    "    for W in w:\n",
    "        # compute inner -product with current layer weights\n",
    "        a = W[0] + np.dot(a.T, W[1:])\n",
    "        # pass through activation\n",
    "        a = np.tanh(a).T\n",
    "    return a\n",
    "\n",
    "# neural network model\n",
    "def model(x, theta):\n",
    "    # compute feature transformation\n",
    "    f = feature_transforms (x, theta [0])\n",
    "    # compute final linear combination\n",
    "    a = theta [1][0] + np.dot(f.T, theta[1][1:])\n",
    "    return a.T\n",
    "\n",
    "# create initial weights for a neural network model\n",
    "def network_initializer (layer_sizes, scale):\n",
    "    # container for all tunable weights\n",
    "    weights = []\n",
    "    # create appropriately -sized initial\n",
    "    # weight matrix for each layer of network\n",
    "    for k in range(len( layer_sizes ) -1):\n",
    "        # get layer sizes for current weight matrix\n",
    "        U_k = layer_sizes [k]\n",
    "        U_k_plus_1 = layer_sizes [k+1]\n",
    "        # make weight matrix\n",
    "        weight = scale * np.random.randn(U_k+1, U_k_plus_1)\n",
    "        weights.append(weight)\n",
    "# repackage weights so that theta_init [0] contains all\n",
    "# weight matrices internal to the network, and theta_init [1]\n",
    "# contains final linear combination weights\n",
    "    theta_init = [weights [: -1], weights [ -1]]\n",
    "    return theta_init\n",
    "\n",
    "# optimizer to update all parameters\n",
    "def gradient_descent_optimizer(w, dw, alpha=0.01):\n",
    "    def helper(W, DW):\n",
    "        ''' recursive update weight'''\n",
    "        assert len(W) == len(DW)\n",
    "        if type(W) == list:\n",
    "            for i in range(len(W)):\n",
    "                helper(W[i], DW[i])\n",
    "        elif type(W) == np.ndarray:\n",
    "            W -= alpha * DW\n",
    "        else:\n",
    "            raise NotImplemented()\n",
    "    helper(w, dw)\n",
    "    return w\n",
    "\n",
    "# train the model until accuracy reach 1.0\n",
    "def train(model, w, dataset, loss_f, alpha=0.01, epoch_total=1000):\n",
    "    x = dataset['input']\n",
    "    y = dataset['output']\n",
    "    print(x.shape)\n",
    "    assert x.shape[0] == y.shape[0]\n",
    "    dataset_size = x.shape[0]\n",
    "    cost_history = []\n",
    "    acc_history = []\n",
    "    # define loss function\n",
    "    def get_loss(x, w, y):\n",
    "        output = model(x, w)\n",
    "        loss = loss_f(output, y)\n",
    "        return loss\n",
    "    loss_and_dloss = value_and_grad(get_loss, 1)\n",
    "\n",
    "    epoch = 1\n",
    "    while epoch < epoch_total:\n",
    "        epoch += 1\n",
    "        if epoch % 10000 == 0:\n",
    "            print('epoch: %d, loss: %f' % (epoch, cost_history[-1]))\n",
    "        loss, grad_value = loss_and_dloss(x, w, y)\n",
    "        acc_history.append(evaluate(model, w, dataset))\n",
    "        cost_history.append(loss)\n",
    "        if abs(acc_history[-1] - 1) < 1e-6:\n",
    "            break\n",
    "        # gradient descent step\n",
    "        w = gradient_descent_optimizer(w, grad_value, alpha)\n",
    "    return acc_history, cost_history, w\n",
    "\n",
    "def ls_loss(output, gt):\n",
    "    ret = np.power(output-gt, 2).sum(axis=0)\n",
    "    ret = ret.mean()\n",
    "    return ret\n",
    "\n",
    "def encoder_decoder_model(x, w):\n",
    "    assert len(w) == 2\n",
    "    encoder_w, decoder_w = w[0], w[1]\n",
    "    z = model(x, encoder_w)\n",
    "    # z = activation(z)\n",
    "    y = model(z, decoder_w)\n",
    "    # y = activation(y)\n",
    "    return y\n",
    "\n",
    "\n",
    "def plot_scatter_manifold(x, model, w):\n",
    "    fig = plt.figure()\n",
    "    gs = gridspec.GridSpec(1, 3)\n",
    "    \n",
    "    # map the data\n",
    "    mapped = model(x, w)\n",
    "\n",
    "    # learned manifold. Map all points sampled from surface\n",
    "\n",
    "    xlin1 = np.linspace(-2.5,-1.7, 200)\n",
    "    xlin2 = np.linspace(-0.8,-0.1, 200)\n",
    "    xv1,xv2 = np.meshgrid(xlin1, xlin2)\n",
    "    xv1 = xv1.flatten()\n",
    "    xv2 = xv2.flatten()\n",
    "    grid_points = np.vstack((xv1, xv2))\n",
    "    mapped_grid = model(grid_points, w)\n",
    "    \n",
    "    # figure1\n",
    "    plt.subplot(gs[0]).scatter(x[0,:],x[1,:],c = 'k',s = 60,edgecolor = 'w')\n",
    "    plt.subplot(gs[0]).set_title('original data')\n",
    "    \n",
    "    # figure2\n",
    "    plt.subplot(gs[1]).set_xlim(-2.5,-1.7)\n",
    "    plt.subplot(gs[1]).scatter(mapped_grid[0,:],mapped_grid[1,:],c = 'k',s = 1.5,edgecolor ='orange',linewidth = 1,zorder = 0)\n",
    "    plt.subplot(gs[1]).set_title('learned manifold')\n",
    "    \n",
    "    # figure3\n",
    "    plt.subplot(gs[2]).set_xlim(-2.5,-1.7)\n",
    "    plt.subplot(gs[2]).scatter(mapped[0,:],mapped[1,:],c = 'k',s = 60,edgecolor = 'r')\n",
    "    plt.subplot(gs[2]).scatter(mapped_grid[0,:],mapped_grid[1,:],c = 'k',s = 1.5,edgecolor ='orange',linewidth = 1,zorder = 0)\n",
    "    plt.subplot(gs[2]).set_title('decoded data')"
   ]
  },
  {
   "cell_type": "code",
   "execution_count": 310,
   "id": "b9c4677e",
   "metadata": {},
   "outputs": [
    {
     "data": {
      "image/png": "[encoded data removed]",
      "text/plain": [
       "<Figure size 432x288 with 1 Axes>"
      ]
     },
     "metadata": {
      "needs_background": "light"
     },
     "output_type": "display_data"
    },
    {
     "name": "stdout",
     "output_type": "stream",
     "text": [
      "(2, 100)\n"
     ]
    },
    {
     "ename": "AttributeError",
     "evalue": "'numpy.ndarray' object has no attribute 'values'",
     "output_type": "error",
     "traceback": [
      "\u001b[1;31m---------------------------------------------------------------------------\u001b[0m",
      "\u001b[1;31mAttributeError\u001b[0m                            Traceback (most recent call last)",
      "\u001b[1;32m~\\AppData\\Local\\Temp/ipykernel_31468/1306851120.py\u001b[0m in \u001b[0;36m<module>\u001b[1;34m\u001b[0m\n\u001b[0;32m     10\u001b[0m \u001b[0mdataset\u001b[0m \u001b[1;33m=\u001b[0m \u001b[1;33m{\u001b[0m\u001b[1;34m'input'\u001b[0m\u001b[1;33m:\u001b[0m \u001b[0mX\u001b[0m\u001b[1;33m,\u001b[0m\u001b[1;34m'output'\u001b[0m\u001b[1;33m:\u001b[0m \u001b[0mX\u001b[0m\u001b[1;33m}\u001b[0m\u001b[1;33m\u001b[0m\u001b[1;33m\u001b[0m\u001b[0m\n\u001b[0;32m     11\u001b[0m \u001b[1;33m\u001b[0m\u001b[0m\n\u001b[1;32m---> 12\u001b[1;33m \u001b[0macc_history\u001b[0m\u001b[1;33m,\u001b[0m \u001b[0mcost_history\u001b[0m\u001b[1;33m,\u001b[0m \u001b[0mw\u001b[0m \u001b[1;33m=\u001b[0m \u001b[0mtrain\u001b[0m\u001b[1;33m(\u001b[0m\u001b[0mencoder_decoder_model\u001b[0m\u001b[1;33m,\u001b[0m \u001b[0mw\u001b[0m\u001b[1;33m,\u001b[0m \u001b[0mdataset\u001b[0m\u001b[1;33m,\u001b[0m\u001b[0mls_loss\u001b[0m\u001b[1;33m,\u001b[0m \u001b[0malpha\u001b[0m\u001b[1;33m=\u001b[0m\u001b[1;36m0.01\u001b[0m\u001b[1;33m,\u001b[0m \u001b[0mepoch_total\u001b[0m\u001b[1;33m=\u001b[0m\u001b[1;36m50000\u001b[0m\u001b[1;33m)\u001b[0m\u001b[1;33m\u001b[0m\u001b[1;33m\u001b[0m\u001b[0m\n\u001b[0m",
      "\u001b[1;32m~\\AppData\\Local\\Temp/ipykernel_31468/800047782.py\u001b[0m in \u001b[0;36mtrain\u001b[1;34m(model, w, dataset, loss_f, alpha, epoch_total)\u001b[0m\n\u001b[0;32m     74\u001b[0m             \u001b[0mprint\u001b[0m\u001b[1;33m(\u001b[0m\u001b[1;34m'epoch: %d, loss: %f'\u001b[0m \u001b[1;33m%\u001b[0m \u001b[1;33m(\u001b[0m\u001b[0mepoch\u001b[0m\u001b[1;33m,\u001b[0m \u001b[0mcost_history\u001b[0m\u001b[1;33m[\u001b[0m\u001b[1;33m-\u001b[0m\u001b[1;36m1\u001b[0m\u001b[1;33m]\u001b[0m\u001b[1;33m)\u001b[0m\u001b[1;33m)\u001b[0m\u001b[1;33m\u001b[0m\u001b[1;33m\u001b[0m\u001b[0m\n\u001b[0;32m     75\u001b[0m         \u001b[0mloss\u001b[0m\u001b[1;33m,\u001b[0m \u001b[0mgrad_value\u001b[0m \u001b[1;33m=\u001b[0m \u001b[0mloss_and_dloss\u001b[0m\u001b[1;33m(\u001b[0m\u001b[0mx\u001b[0m\u001b[1;33m,\u001b[0m \u001b[0mw\u001b[0m\u001b[1;33m,\u001b[0m \u001b[0my\u001b[0m\u001b[1;33m)\u001b[0m\u001b[1;33m\u001b[0m\u001b[1;33m\u001b[0m\u001b[0m\n\u001b[1;32m---> 76\u001b[1;33m         \u001b[0macc_history\u001b[0m\u001b[1;33m.\u001b[0m\u001b[0mappend\u001b[0m\u001b[1;33m(\u001b[0m\u001b[0mevaluate\u001b[0m\u001b[1;33m(\u001b[0m\u001b[0mmodel\u001b[0m\u001b[1;33m,\u001b[0m \u001b[0mw\u001b[0m\u001b[1;33m,\u001b[0m \u001b[0mdataset\u001b[0m\u001b[1;33m)\u001b[0m\u001b[1;33m)\u001b[0m\u001b[1;33m\u001b[0m\u001b[1;33m\u001b[0m\u001b[0m\n\u001b[0m\u001b[0;32m     77\u001b[0m         \u001b[0mcost_history\u001b[0m\u001b[1;33m.\u001b[0m\u001b[0mappend\u001b[0m\u001b[1;33m(\u001b[0m\u001b[0mloss\u001b[0m\u001b[1;33m)\u001b[0m\u001b[1;33m\u001b[0m\u001b[1;33m\u001b[0m\u001b[0m\n\u001b[0;32m     78\u001b[0m         \u001b[1;32mif\u001b[0m \u001b[0mabs\u001b[0m\u001b[1;33m(\u001b[0m\u001b[0macc_history\u001b[0m\u001b[1;33m[\u001b[0m\u001b[1;33m-\u001b[0m\u001b[1;36m1\u001b[0m\u001b[1;33m]\u001b[0m \u001b[1;33m-\u001b[0m \u001b[1;36m1\u001b[0m\u001b[1;33m)\u001b[0m \u001b[1;33m<\u001b[0m \u001b[1;36m1e-6\u001b[0m\u001b[1;33m:\u001b[0m\u001b[1;33m\u001b[0m\u001b[1;33m\u001b[0m\u001b[0m\n",
      "\u001b[1;32m~\\AppData\\Local\\Temp/ipykernel_31468/3216850038.py\u001b[0m in \u001b[0;36mevaluate\u001b[1;34m(model, w, dataset)\u001b[0m\n\u001b[0;32m      1\u001b[0m \u001b[1;32mdef\u001b[0m \u001b[0mevaluate\u001b[0m\u001b[1;33m(\u001b[0m\u001b[0mmodel\u001b[0m\u001b[1;33m,\u001b[0m \u001b[0mw\u001b[0m\u001b[1;33m,\u001b[0m \u001b[0mdataset\u001b[0m\u001b[1;33m)\u001b[0m\u001b[1;33m:\u001b[0m\u001b[1;33m\u001b[0m\u001b[1;33m\u001b[0m\u001b[0m\n\u001b[1;32m----> 2\u001b[1;33m     \u001b[0mx\u001b[0m \u001b[1;33m=\u001b[0m \u001b[0mdataset\u001b[0m\u001b[1;33m[\u001b[0m\u001b[1;34m'input'\u001b[0m\u001b[1;33m]\u001b[0m\u001b[1;33m.\u001b[0m\u001b[0mvalues\u001b[0m\u001b[1;33m(\u001b[0m\u001b[1;33m)\u001b[0m\u001b[1;33m\u001b[0m\u001b[1;33m\u001b[0m\u001b[0m\n\u001b[0m\u001b[0;32m      3\u001b[0m     \u001b[0my\u001b[0m \u001b[1;33m=\u001b[0m \u001b[0mdataset\u001b[0m\u001b[1;33m[\u001b[0m\u001b[1;34m'output'\u001b[0m\u001b[1;33m]\u001b[0m\u001b[1;33m.\u001b[0m\u001b[0mvalues\u001b[0m\u001b[1;33m(\u001b[0m\u001b[1;33m)\u001b[0m\u001b[1;33m\u001b[0m\u001b[1;33m\u001b[0m\u001b[0m\n\u001b[0;32m      4\u001b[0m     \u001b[0mdataset_size\u001b[0m \u001b[1;33m=\u001b[0m \u001b[0mx\u001b[0m\u001b[1;33m.\u001b[0m\u001b[0mshape\u001b[0m\u001b[1;33m[\u001b[0m\u001b[1;36m1\u001b[0m\u001b[1;33m]\u001b[0m\u001b[1;33m\u001b[0m\u001b[1;33m\u001b[0m\u001b[0m\n\u001b[0;32m      5\u001b[0m     \u001b[0moutput\u001b[0m \u001b[1;33m=\u001b[0m \u001b[0mmodel\u001b[0m\u001b[1;33m(\u001b[0m\u001b[0mx\u001b[0m\u001b[1;33m,\u001b[0m \u001b[0mw\u001b[0m\u001b[1;33m)\u001b[0m\u001b[1;33m\u001b[0m\u001b[1;33m\u001b[0m\u001b[0m\n",
      "\u001b[1;31mAttributeError\u001b[0m: 'numpy.ndarray' object has no attribute 'values'"
     ]
    }
   ],
   "source": [
    "encoder_w = network_initializer([2, 10, 10, 10, 1], 1)\n",
    "decoder_w = network_initializer([1, 10, 10, 10, 2], 1)\n",
    "\n",
    "w = [encoder_w, decoder_w]\n",
    "\n",
    "X = np.loadtxt(datapath + 'universal_autoencoder_samples.csv', delimiter=',')\n",
    "plt.scatter(X[0,:], X[1,:], c = 'k', s = 60, linewidth = 0.75, edgecolor = 'w')\n",
    "plt.show()\n",
    "\n",
    "dataset = {'input': X,'output': X}\n",
    "\n",
    "acc_history, cost_history, w = train(encoder_decoder_model, w, dataset,ls_loss, alpha=0.01, epoch_total=50000)"
   ]
  },
  {
   "cell_type": "code",
   "execution_count": 311,
   "id": "53997bb5",
   "metadata": {},
   "outputs": [
    {
     "data": {
      "image/png": "[encoded data removed]",
      "text/plain": [
       "<Figure size 432x288 with 3 Axes>"
      ]
     },
     "metadata": {
      "needs_background": "light"
     },
     "output_type": "display_data"
    }
   ],
   "source": [
    "plot_scatter_manifold(X, encoder_decoder_model ,w)"
   ]
  },
  {
   "cell_type": "markdown",
   "id": "8ac4cfcf",
   "metadata": {},
   "source": [
    "# 13.8"
   ]
  },
  {
   "cell_type": "code",
   "execution_count": 197,
   "id": "d26e8a67",
   "metadata": {},
   "outputs": [],
   "source": [
    "from sklearn.datasets import fetch_openml\n",
    "from sklearn.model_selection import train_test_split\n",
    "from autograd import value_and_grad\n",
    "from matplotlib import gridspec\n",
    "import autograd.numpy as np\n",
    "import matplotlib.pyplot as plt\n"
   ]
  },
  {
   "cell_type": "code",
   "execution_count": 200,
   "id": "e678f3dc",
   "metadata": {},
   "outputs": [
    {
     "name": "stdout",
     "output_type": "stream",
     "text": [
      "input shape =  (784, 70000)\n",
      "output shape =  (1, 70000)\n"
     ]
    }
   ],
   "source": [
    "#preprocessing\n",
    "\n",
    "x, y = fetch_openml('mnist_784', version=1, return_X_y=True)\n",
    "\n",
    "\n",
    "y = np.array([int(v) for v in y])[:,np.newaxis]\n",
    "\n",
    "x = (x - x.mean()) / x.std()\n",
    "\n",
    "x = x.values.T\n",
    "y = y.T\n",
    "\n",
    "print(\"input shape = \" , x.shape)\n",
    "print(\"output shape = \", y.shape)\n"
   ]
  },
  {
   "cell_type": "code",
   "execution_count": 188,
   "id": "c28160e7",
   "metadata": {},
   "outputs": [],
   "source": [
    "#split half\n",
    "\n",
    "r = np.random.permutation(x.shape[1])\n",
    "train_num = int(np.round(0.5*len(r)))\n",
    "train_inds = r[:train_num]\n",
    "val_inds = r[train_num:]\n",
    "        \n",
    "# define training and testing set\n",
    "\n",
    "x_train = x[:,train_inds]\n",
    "x_test = x[:,val_inds]\n",
    "\n",
    "y_train = y[:,train_inds]\n",
    "y_test = y[:,val_inds]"
   ]
  },
  {
   "cell_type": "code",
   "execution_count": 190,
   "id": "14f6b161",
   "metadata": {},
   "outputs": [],
   "source": [
    "class Model:\n",
    "    def __init__(self, layer_sizes, scale, use_BN=True, activation=np.tanh):\n",
    "        self.weights = self.network_initializer(layer_sizes, scale)\n",
    "        if use_BN:\n",
    "            self.mus = None\n",
    "            self.sigmas = None\n",
    "        self.train = True\n",
    "        self.use_BN = use_BN\n",
    "        self.activation = activation\n",
    "        \n",
    "    def set_train(self, t):\n",
    "        self.train = t\n",
    "        \n",
    "    def feature_transforms (self, a, w):\n",
    "        if self.train and self.use_BN:\n",
    "            mus = []\n",
    "            sigmas = []\n",
    "            # loop through each layer\n",
    "        for i, W in enumerate(w):\n",
    "            # compute inner -product with current layer weights\n",
    "            a = W[0] + np.dot(a.T, W[1:])\n",
    "            # pass through activation\n",
    "            a = self.activation (a)\n",
    "                \n",
    "            if self.use_BN:\n",
    "                # BN\n",
    "                if self.train:\n",
    "                    mu = np.mean(a, axis=0)\n",
    "                    # sigma = ((a - mu) ** 2).mean(axis=0)\n",
    "                    sigma = np.std(a-mu, axis=0)\n",
    "                    mus.append(mu)\n",
    "                    sigmas.append(sigma)\n",
    "                else:\n",
    "                    mu = self.mus[i]\n",
    "                    sigma = self.sigmas[i]\n",
    "                if np.isnan(mu).any():\n",
    "                    raise ValueError()\n",
    "                \n",
    "                if np.isnan(sigma).any():\n",
    "                    raise ValueError()\n",
    "                a = (a - mu) / (sigma + 1e-11)\n",
    "                \n",
    "            if np.isnan(a).any():\n",
    "                raise ValueError()\n",
    "            a = a.T\n",
    "        if self.train and self.use_BN:\n",
    "            self.mus = mus\n",
    "            self.sigmas = sigmas\n",
    "        return a\n",
    "\n",
    "    # neural network model\n",
    "    def model(self, x, theta):\n",
    "        # compute feature transformation\n",
    "        f = self.feature_transforms (x, theta [0])\n",
    "        # compute final linear combination\n",
    "        a = theta [1][0] + np.dot(f.T, theta[1][1:])\n",
    "        return a.T\n",
    "    \n",
    "    # create initial weights for a neural network model\n",
    "    def network_initializer (self, layer_sizes, scale):\n",
    "        # container for all tunable weights\n",
    "        weights = []\n",
    "        # create appropriately -sized initial\n",
    "        # weight matrix for each layer of network\n",
    "        for k in range(len( layer_sizes ) -1):\n",
    "            # get layer sizes for current weight matrix\n",
    "            U_k = layer_sizes [k]\n",
    "            U_k_plus_1 = layer_sizes [k+1]\n",
    "        # make weight matrix\n",
    "            weight = scale * np.random.randn(U_k+1, U_k_plus_1)\n",
    "            weights.append(weight)\n",
    "    # repackage weights so that theta_init [0] contains all\n",
    "    # weight matrices internal to the network, and theta_init [1]\n",
    "    # contains final linear combination weights\n",
    "        theta_init = [weights [: -1], weights [ -1]]\n",
    "        return theta_init\n"
   ]
  },
  {
   "cell_type": "code",
   "execution_count": 191,
   "id": "101afdd2",
   "metadata": {},
   "outputs": [],
   "source": [
    "def gradient_descent_optimizer(w, dw, alpha=0.01):\n",
    "    def grad(W, DW):\n",
    "        assert len(W) == len(DW)\n",
    "        if type(W) == list:\n",
    "            for i in range(len(W)):\n",
    "                grad(W[i], DW[i])\n",
    "        elif type(W) == np.ndarray:\n",
    "            if(np.isnan(DW).any()):\n",
    "                print(DW, DW.shape)\n",
    "            W -= alpha * DW\n",
    "        else:\n",
    "            raise NotImplemented()\n",
    "    grad(w, dw)\n",
    "    return w\n",
    "\n",
    "\n",
    "# evaluate accuracy of the model\n",
    "def evaluate(model, w, dataset):\n",
    "    x = dataset['input']\n",
    "    y = dataset['output']\n",
    "    dataset_size = x.shape[1]\n",
    "    output = model(x, w)\n",
    "    output_label = output.argmax(axis=0)\n",
    "    corrects = abs(output.argmax(axis=0) - y) < 1e-6\n",
    "    return sum(corrects[0]) / dataset_size\n",
    "\n",
    "\n",
    "def train(model_obj, dataset, dataset_eval, loss_f, alpha=0.01,epoch_total=1000, show_freq=1000):\n",
    "    w = model_obj.weights\n",
    "    x = dataset['input']\n",
    "    y = dataset['output']\n",
    "    dataset_size = x.shape[0]\n",
    "    cost_history = []\n",
    "    acc_history = []\n",
    "    \n",
    "    # define loss function\n",
    "    def get_loss(x, w, y):\n",
    "        output = model_obj.model(x, w)\n",
    "        loss = loss_f(output, y)\n",
    "        return loss\n",
    "\n",
    "    loss_and_dloss = value_and_grad(get_loss, 1)\n",
    "    epoch = 0\n",
    "    \n",
    "    while epoch < epoch_total:\n",
    "        loss, grad_value = loss_and_dloss(x, w, y)\n",
    "        model_obj.set_train(False)\n",
    "        acc_history.append(evaluate(model_obj.model, w, dataset_eval))\n",
    "        model_obj.set_train(True)\n",
    "        cost_history.append(loss)\n",
    "\n",
    "        # gradient descent step\n",
    "        w = gradient_descent_optimizer(w, grad_value, alpha)\n",
    "        \n",
    "        epoch += 1\n",
    "        \n",
    "        if epoch % show_freq == 0 or epoch == 1:\n",
    "    return acc_history, cost_history, w \n",
    "\n",
    "\n",
    "# softmax function\n",
    "def softmax(x):\n",
    "    # optimized softmax\n",
    "    e_x = np.exp(x - np.max(x, axis=0))\n",
    "    return e_x / e_x.sum(axis=0)\n",
    "\n",
    "\n",
    "# multi-class cross entropy loss with softmax\n",
    "def ce_loss(output, label):\n",
    "    y = softmax(output)\n",
    "    ret = y[label[0], np.arange(y.shape[1])]\n",
    "    ret = -np.log(ret + 1e-11).mean()\n",
    "    return ret"
   ]
  },
  {
   "cell_type": "code",
   "execution_count": 205,
   "id": "88d58e2c",
   "metadata": {},
   "outputs": [],
   "source": [
    "dataset = {'input': x_train.T, 'output': y_train.T}\n",
    "eval_dataset = {'input': x_test.T, 'output': y_test.T}\n",
    "\n",
    "\n",
    "model_obj_std = Model([784, 10, 10, 10, 10, 10], 1, False, activation=lambda x: np.maximum(x, 0))\n",
    "acc_history_std, cost_history_std, w = train(model_obj, dataset, eval_dataset,ce_loss, alpha=0.1, \n",
    "                                             epoch_total=1000, show_freq=10)\n",
    "\n",
    "model_obj_b_n = Model([784, 10, 10, 10, 10, 10], 1, activation=lambda x: np.maximum(x, 0))\n",
    "acc_history_b_n, cost_history_b_n, w = train(model_obj, dataset, eval_dataset,ce_loss, alpha=0.1, epoch_total=1000)\n"
   ]
  },
  {
   "cell_type": "code",
   "execution_count": 203,
   "id": "42c68dd7",
   "metadata": {},
   "outputs": [
    {
     "data": {
      "image/png": "[encoded data removed]",
      "text/plain": [
       "<Figure size 432x288 with 2 Axes>"
      ]
     },
     "metadata": {
      "needs_background": "light"
     },
     "output_type": "display_data"
    }
   ],
   "source": [
    "fig = plt.figure()\n",
    "gs = gridspec.GridSpec(1, 2)\n",
    "\n",
    "plt.subplot(gs[0]).set_xlabel('Epoch')\n",
    "plt.subplot(gs[0]).set_ylabel('Accuracy')\n",
    "plt.subplot(gs[0]).plot(np.arange(len(acc_history_std)), acc_history_std, label=\"Regular\")\n",
    "plt.subplot(gs[0]).plot(np.arange(len(acc_history_b_n)), acc_history_b_n,label='Batch Normalized')\n",
    "plt.subplot(gs[0]).legend()\n",
    "\n",
    "plt.subplot(gs[1]).set_xlabel('Epoch')\n",
    "plt.subplot(gs[1]).set_ylabel('Cost')\n",
    "plt.subplot(gs[1]).plot(np.arange(len(cost_history_std)), cost_history_std, label=\"Regular\")\n",
    "plt.subplot(gs[1]).plot(np.arange(len(cost_history_b_n)), cost_history_b_n, label='Batch Normalized')\n",
    "plt.subplot(gs[1]).legend()\n",
    "\n",
    "plt.show()"
   ]
  },
  {
   "cell_type": "markdown",
   "id": "f409ddb1",
   "metadata": {},
   "source": [
    "# 13.9"
   ]
  },
  {
   "cell_type": "code",
   "execution_count": 255,
   "id": "34555b03",
   "metadata": {},
   "outputs": [],
   "source": [
    "from copy import deepcopy\n",
    "from matplotlib import gridspec"
   ]
  },
  {
   "cell_type": "code",
   "execution_count": 256,
   "id": "72a5a898",
   "metadata": {},
   "outputs": [],
   "source": [
    "def evaluate(model, w, dataset):\n",
    "    x = dataset['input']\n",
    "    y = dataset['output']\n",
    "    dataset_size = x.shape[1]\n",
    "    output = model(x, w)\n",
    "    return abs(output-y).sum()\n",
    "\n",
    "def train(model_obj, dataset, dataset_eval, loss_f, alpha=0.01, epoch_total=1000, show_freq=1000):\n",
    "    w = model_obj.weights\n",
    "\n",
    "    x = dataset['input']\n",
    "    y = dataset['output']\n",
    "    print(x.shape)\n",
    "    dataset_size = x.shape[0]\n",
    "    cost_history = []\n",
    "    acc_history = []\n",
    "    # define loss function\n",
    "    def get_loss(x, w, y):\n",
    "        output = model_obj.model(x, w)\n",
    "        loss = loss_f(output, y)\n",
    "        return loss\n",
    "    loss_and_dloss = value_and_grad(get_loss, 1)\n",
    "    min_mse = 1e10\n",
    "    min_w = w\n",
    "    epoch = 0\n",
    "    while epoch < epoch_total:\n",
    "        loss, grad_value = loss_and_dloss(x, w, y)\n",
    "        model_obj.set_train(False)\n",
    "        acc_history.append(evaluate(model_obj.model, w, dataset_eval))\n",
    "        model_obj.set_train(True)\n",
    "        cost_history.append(loss)\n",
    "        if acc_history[-1] < min_mse:\n",
    "            min_mse = acc_history[-1]\n",
    "            min_w = deepcopy(w)\n",
    "        # gradient descent step\n",
    "        w = gradient_descent_optimizer(w, grad_value, alpha)\n",
    "        epoch += 1\n",
    "        if epoch % show_freq == 0 or epoch == 1:\n",
    "            print('epoch: %d, accuracy: %f, loss: %f' % (epoch,acc_history[-1], cost_history[-1]))\n",
    "    return acc_history, cost_history, w, min_w\n",
    "\n",
    "def ls_loss(output, gt):   \n",
    "    ret = np.power(output-gt, 2).sum(axis=0)\n",
    "    ret = ret.mean()\n",
    "    return ret"
   ]
  },
  {
   "cell_type": "code",
   "execution_count": 257,
   "id": "fa3edfb5",
   "metadata": {},
   "outputs": [
    {
     "data": {
      "image/png": "[encoded data removed]",
      "text/plain": [
       "<Figure size 432x288 with 1 Axes>"
      ]
     },
     "metadata": {
      "needs_background": "light"
     },
     "output_type": "display_data"
    }
   ],
   "source": [
    "#dataset\n",
    "csvname = datapath + 'noisy_sin_sample.csv'\n",
    "data = np.loadtxt(csvname, delimiter = ',')\n",
    "\n",
    "x = data[:-1,:]\n",
    "y = data[-1:,:]\n",
    "\n",
    "fig = plt.figure()\n",
    "plt.scatter(x, y)\n",
    "plt.show()\n"
   ]
  },
  {
   "cell_type": "code",
   "execution_count": 258,
   "id": "c81918db",
   "metadata": {},
   "outputs": [
    {
     "name": "stdout",
     "output_type": "stream",
     "text": [
      "(1, 10)\n",
      "epoch: 1, accuracy: 55.425319, loss: 24.218639\n",
      "epoch: 1000, accuracy: 2.309508, loss: 0.029591\n",
      "epoch: 2000, accuracy: 1.968931, loss: 0.026260\n",
      "epoch: 3000, accuracy: 2.167364, loss: 0.025609\n",
      "epoch: 4000, accuracy: 2.292671, loss: 0.025418\n",
      "epoch: 5000, accuracy: 2.380893, loss: 0.025348\n",
      "epoch: 6000, accuracy: 2.447026, loss: 0.025313\n",
      "epoch: 7000, accuracy: 2.499559, loss: 0.025288\n",
      "epoch: 8000, accuracy: 2.543512, loss: 0.025268\n",
      "epoch: 9000, accuracy: 2.581843, loss: 0.025250\n",
      "epoch: 10000, accuracy: 2.616295, loss: 0.025233\n",
      "epoch: 11000, accuracy: 2.647913, loss: 0.025218\n",
      "epoch: 12000, accuracy: 2.677342, loss: 0.025203\n",
      "epoch: 13000, accuracy: 2.705000, loss: 0.025189\n",
      "epoch: 14000, accuracy: 2.731179, loss: 0.025176\n",
      "epoch: 15000, accuracy: 2.756095, loss: 0.025163\n",
      "epoch: 16000, accuracy: 2.779919, loss: 0.025151\n",
      "epoch: 17000, accuracy: 2.802788, loss: 0.025140\n",
      "epoch: 18000, accuracy: 2.824822, loss: 0.025129\n",
      "epoch: 19000, accuracy: 2.846119, loss: 0.025118\n",
      "epoch: 20000, accuracy: 2.866765, loss: 0.025108\n"
     ]
    }
   ],
   "source": [
    "x_train, x_test, y_train, y_test = train_test_split(x.T, y.T, test_size=0.5)\n",
    "\n",
    "dataset = {'input': x_train.T, 'output': y_train.T}\n",
    "\n",
    "eval_dataset = {'input': x_test.T, 'output': y_test.T}\n",
    "\n",
    "model_obj = Model([1, 10, 10, 10, 1], 1, False)\n",
    "\n",
    "acc_history, cost_history, w, best_w = train(model_obj, dataset, eval_dataset, ls_loss, alpha=0.01, epoch_total=20000)"
   ]
  },
  {
   "cell_type": "code",
   "execution_count": 259,
   "id": "ac331e1e",
   "metadata": {},
   "outputs": [
    {
     "data": {
      "image/png": "[encoded data removed]",
      "text/plain": [
       "<Figure size 432x288 with 3 Axes>"
      ]
     },
     "metadata": {
      "needs_background": "light"
     },
     "output_type": "display_data"
    }
   ],
   "source": [
    "fig = plt.figure()\n",
    "gs = gridspec.GridSpec(1, 4)\n",
    "\n",
    "x_line = np.linspace(0, 1, 200).reshape(1, 200)\n",
    "y_line = model_obj.model(x_line, best_w)\n",
    "\n",
    "\n",
    "plt.subplot(gs[0]).set_title('Entire')\n",
    "plt.subplot(gs[0]).set_ylim(-1.25, 1.4)\n",
    "plt.subplot(gs[0]).scatter(x_line, y_line)\n",
    "plt.subplot(gs[0]).scatter(x, y)\n",
    "\n",
    "plt.subplot(gs[1]).set_title('Tain')\n",
    "plt.subplot(gs[1]).set_ylim(-1.25, 1.4)\n",
    "plt.subplot(gs[1]).scatter(x_line, y_line)\n",
    "plt.subplot(gs[1]).scatter(x_train, y_train)\n",
    "\n",
    "plt.subplot(gs[2]).set_title('Test')\n",
    "plt.subplot(gs[2]).set_ylim(-1.25, 1.4)\n",
    "plt.subplot(gs[2]).scatter(x_line, y_line)\n",
    "plt.subplot(gs[2]).scatter(x_test, y_test)\n",
    "\n",
    "\n",
    "plt.show()\n"
   ]
  },
  {
   "cell_type": "code",
   "execution_count": 260,
   "id": "c80fdfb7",
   "metadata": {},
   "outputs": [
    {
     "data": {
      "image/png": "[encoded data removed]",
      "text/plain": [
       "<Figure size 432x288 with 1 Axes>"
      ]
     },
     "metadata": {
      "needs_background": "light"
     },
     "output_type": "display_data"
    }
   ],
   "source": [
    "fig = plt.figure()\n",
    "\n",
    "gs = gridspec.GridSpec(1, 1)\n",
    "\n",
    "plt.subplot(gs[0]).set_xlabel('Epoch')\n",
    "plt.subplot(gs[0]).set_ylabel('Error')\n",
    "\n",
    "plt.subplot(gs[0]).plot(np.arange(len(cost_history)), cost_history)\n",
    "\n",
    "plt.show()"
   ]
  },
  {
   "cell_type": "markdown",
   "id": "a5a37724",
   "metadata": {},
   "source": [
    "# 13.10"
   ]
  },
  {
   "cell_type": "code",
   "execution_count": 283,
   "id": "b2922980",
   "metadata": {},
   "outputs": [],
   "source": [
    "from sklearn.datasets import fetch_openml\n",
    "from matplotlib import gridspec\n",
    "from sklearn.model_selection import train_test_split\n",
    "import matplotlib.pyplot as plt\n"
   ]
  },
  {
   "cell_type": "code",
   "execution_count": 284,
   "id": "98b3baaf",
   "metadata": {},
   "outputs": [],
   "source": [
    "def evaluate(model, w, dataset):\n",
    "    x = dataset['input'].values()\n",
    "    y = dataset['output'].values()\n",
    "    dataset_size = x.shape[1]\n",
    "    output = model(x, w)\n",
    "    output_label = output.argmax(axis=0)\n",
    "    corrects = abs(output.argmax(axis=0) - y) < 1e-6\n",
    "    return sum(corrects[0]) / dataset_size\n",
    "\n",
    "\n",
    "def train(model_obj, dataset, dataset_eval, loss_f, alpha, epoch_total, show_freq):\n",
    "    w = model_obj.weights\n",
    "    x, x_valid = dataset['input'], dataset_eval['input']\n",
    "    y, y_valid = dataset['output'], dataset_eval['output']\n",
    "    \n",
    "    print(x.shape)\n",
    "    print(y.shape)\n",
    "    print(x_valid.shape)\n",
    "    print(y_valid.shape)\n",
    "    \n",
    "    dataset_size = x.shape[1]\n",
    "    cost_history_train = []\n",
    "    cost_history_val = []\n",
    "    acc_history_train = []\n",
    "    acc_history_val = []\n",
    "    \n",
    "    # define loss function\n",
    "    def get_loss(x, w, y):\n",
    "        output = model_obj.model(x, w)\n",
    "        loss = loss_f(output, y)\n",
    "        return loss\n",
    "    \n",
    "    loss_and_dloss = value_and_grad(get_loss, 1)\n",
    "    \n",
    "    batchsize = 200\n",
    "    epoch = 0\n",
    "    \n",
    "    while epoch < epoch_total:\n",
    "        for b_start in range(0, dataset_size, batchsize):\n",
    "            x_batch = x[..., b_start: b_start + batchsize]\n",
    "            y_batch = y[..., b_start: b_start + batchsize]\n",
    "            loss, grad_value = loss_and_dloss(x_batch, w, y_batch)\n",
    "            \n",
    "            # gradient descent step\n",
    "            w = gradient_descent_optimizer(w, grad_value, alpha)\n",
    "            \n",
    "        model_obj.set_train(False)\n",
    "        \n",
    "        acc_history_train.append(evaluate(model_obj.model, w, dataset))\n",
    "        acc_history_val.append(evaluate(model_obj.model, w, dataset_eval))\n",
    "        \n",
    "        model_obj.set_train(True)\n",
    "        \n",
    "        cost_history_train.append(loss)\n",
    "        loss_valid, _ = loss_and_dloss(x_valid, w, y_valid)\n",
    "        cost_history_val.append(loss_valid)\n",
    "        \n",
    "        epoch += 1\n",
    "        \n",
    "        if epoch % show_freq == 0 or epoch == 1:\n",
    "            print('epoch: %d, accuracy: %f, loss: %f' % (epoch,acc_history_val[-1], cost_history_train[-1]))\n",
    "            \n",
    "    return acc_history_train, acc_history_val, cost_history_train,cost_history_val\n",
    "\n"
   ]
  },
  {
   "cell_type": "code",
   "execution_count": 285,
   "id": "f7af8c92",
   "metadata": {},
   "outputs": [
    {
     "name": "stdout",
     "output_type": "stream",
     "text": [
      "input shape =  (70000, 784)\n",
      "output shape =  (70000, 1)\n"
     ]
    }
   ],
   "source": [
    "#preprocessing\n",
    "\n",
    "x, y = fetch_openml('mnist_784', version=1, return_X_y=True)\n",
    "# convert string labels to integers\n",
    "y = np.array([int(v) for v in y])[:,np.newaxis]\n",
    "\n",
    "x = (x - x.mean()) / x.std()\n",
    "#x = x.values.T\n",
    "#y = y.T\n",
    "\n",
    "print(\"input shape = \" , x.shape)\n",
    "print(\"output shape = \", y.shape)\n"
   ]
  },
  {
   "cell_type": "code",
   "execution_count": 286,
   "id": "adcae599",
   "metadata": {},
   "outputs": [],
   "source": [
    "#split\n",
    "\n",
    "x_train, x_test, y_train, y_test = train_test_split(x, y, test_size=0.5)\n",
    "x_valid, x_test, y_valid, y_test = train_test_split(x_test, y_test,test_size=0.5)\n"
   ]
  },
  {
   "cell_type": "code",
   "execution_count": 287,
   "id": "154372ed",
   "metadata": {},
   "outputs": [
    {
     "name": "stdout",
     "output_type": "stream",
     "text": [
      "(784, 35000)\n",
      "(1, 35000)\n",
      "(784, 17500)\n",
      "(1, 17500)\n"
     ]
    },
    {
     "ename": "TypeError",
     "evalue": "'(Ellipsis, slice(0, 200, None))' is an invalid key",
     "output_type": "error",
     "traceback": [
      "\u001b[1;31m---------------------------------------------------------------------------\u001b[0m",
      "\u001b[1;31mTypeError\u001b[0m                                 Traceback (most recent call last)",
      "\u001b[1;32m~\\AppData\\Local\\Temp/ipykernel_31468/4195390038.py\u001b[0m in \u001b[0;36m<module>\u001b[1;34m\u001b[0m\n\u001b[0;32m      5\u001b[0m \u001b[1;33m\u001b[0m\u001b[0m\n\u001b[0;32m      6\u001b[0m \u001b[0mmodel_obj\u001b[0m \u001b[1;33m=\u001b[0m \u001b[0mModel\u001b[0m\u001b[1;33m(\u001b[0m\u001b[1;33m[\u001b[0m\u001b[1;36m784\u001b[0m\u001b[1;33m,\u001b[0m \u001b[1;36m100\u001b[0m\u001b[1;33m,\u001b[0m \u001b[1;36m100\u001b[0m\u001b[1;33m,\u001b[0m \u001b[1;36m10\u001b[0m\u001b[1;33m]\u001b[0m\u001b[1;33m,\u001b[0m \u001b[1;36m1\u001b[0m\u001b[1;33m,\u001b[0m \u001b[0mactivation\u001b[0m\u001b[1;33m=\u001b[0m\u001b[1;32mlambda\u001b[0m \u001b[0mx\u001b[0m\u001b[1;33m:\u001b[0m \u001b[0mnp\u001b[0m\u001b[1;33m.\u001b[0m\u001b[0mmaximum\u001b[0m\u001b[1;33m(\u001b[0m\u001b[0mx\u001b[0m\u001b[1;33m,\u001b[0m \u001b[1;36m0\u001b[0m\u001b[1;33m)\u001b[0m\u001b[1;33m)\u001b[0m\u001b[1;33m\u001b[0m\u001b[1;33m\u001b[0m\u001b[0m\n\u001b[1;32m----> 7\u001b[1;33m \u001b[0macc_history_train\u001b[0m\u001b[1;33m,\u001b[0m \u001b[0macc_history_val\u001b[0m\u001b[1;33m,\u001b[0m \u001b[0mcost_history_train\u001b[0m\u001b[1;33m,\u001b[0m \u001b[0mcost_history_val\u001b[0m \u001b[1;33m=\u001b[0m\u001b[0mtrain\u001b[0m\u001b[1;33m(\u001b[0m\u001b[0mmodel_obj\u001b[0m\u001b[1;33m,\u001b[0m \u001b[0mdataset\u001b[0m\u001b[1;33m,\u001b[0m \u001b[0mv_dataset\u001b[0m\u001b[1;33m,\u001b[0m \u001b[0mce_loss\u001b[0m\u001b[1;33m,\u001b[0m \u001b[1;36m0.1\u001b[0m\u001b[1;33m,\u001b[0m \u001b[1;36m1000\u001b[0m\u001b[1;33m,\u001b[0m \u001b[1;36m10\u001b[0m\u001b[1;33m)\u001b[0m\u001b[1;33m\u001b[0m\u001b[1;33m\u001b[0m\u001b[0m\n\u001b[0m",
      "\u001b[1;32m~\\AppData\\Local\\Temp/ipykernel_31468/3216850038.py\u001b[0m in \u001b[0;36mtrain\u001b[1;34m(model_obj, dataset, dataset_eval, loss_f, alpha, epoch_total, show_freq)\u001b[0m\n\u001b[0;32m     35\u001b[0m     \u001b[1;32mwhile\u001b[0m \u001b[0mepoch\u001b[0m \u001b[1;33m<\u001b[0m \u001b[0mepoch_total\u001b[0m\u001b[1;33m:\u001b[0m\u001b[1;33m\u001b[0m\u001b[1;33m\u001b[0m\u001b[0m\n\u001b[0;32m     36\u001b[0m         \u001b[1;32mfor\u001b[0m \u001b[0mb_start\u001b[0m \u001b[1;32min\u001b[0m \u001b[0mrange\u001b[0m\u001b[1;33m(\u001b[0m\u001b[1;36m0\u001b[0m\u001b[1;33m,\u001b[0m \u001b[0mdataset_size\u001b[0m\u001b[1;33m,\u001b[0m \u001b[0mbatchsize\u001b[0m\u001b[1;33m)\u001b[0m\u001b[1;33m:\u001b[0m\u001b[1;33m\u001b[0m\u001b[1;33m\u001b[0m\u001b[0m\n\u001b[1;32m---> 37\u001b[1;33m             \u001b[0mx_batch\u001b[0m \u001b[1;33m=\u001b[0m \u001b[0mx\u001b[0m\u001b[1;33m[\u001b[0m\u001b[1;33m...\u001b[0m\u001b[1;33m,\u001b[0m \u001b[0mb_start\u001b[0m\u001b[1;33m:\u001b[0m \u001b[0mb_start\u001b[0m \u001b[1;33m+\u001b[0m \u001b[0mbatchsize\u001b[0m\u001b[1;33m]\u001b[0m\u001b[1;33m\u001b[0m\u001b[1;33m\u001b[0m\u001b[0m\n\u001b[0m\u001b[0;32m     38\u001b[0m             \u001b[0my_batch\u001b[0m \u001b[1;33m=\u001b[0m \u001b[0my\u001b[0m\u001b[1;33m[\u001b[0m\u001b[1;33m...\u001b[0m\u001b[1;33m,\u001b[0m \u001b[0mb_start\u001b[0m\u001b[1;33m:\u001b[0m \u001b[0mb_start\u001b[0m \u001b[1;33m+\u001b[0m \u001b[0mbatchsize\u001b[0m\u001b[1;33m]\u001b[0m\u001b[1;33m\u001b[0m\u001b[1;33m\u001b[0m\u001b[0m\n\u001b[0;32m     39\u001b[0m             \u001b[0mloss\u001b[0m\u001b[1;33m,\u001b[0m \u001b[0mgrad_value\u001b[0m \u001b[1;33m=\u001b[0m \u001b[0mloss_and_dloss\u001b[0m\u001b[1;33m(\u001b[0m\u001b[0mx_batch\u001b[0m\u001b[1;33m,\u001b[0m \u001b[0mw\u001b[0m\u001b[1;33m,\u001b[0m \u001b[0my_batch\u001b[0m\u001b[1;33m)\u001b[0m\u001b[1;33m\u001b[0m\u001b[1;33m\u001b[0m\u001b[0m\n",
      "\u001b[1;32mC:\\ProgramData\\Anaconda3\\lib\\site-packages\\pandas\\core\\frame.py\u001b[0m in \u001b[0;36m__getitem__\u001b[1;34m(self, key)\u001b[0m\n\u001b[0;32m   3456\u001b[0m             \u001b[1;32mif\u001b[0m \u001b[0mself\u001b[0m\u001b[1;33m.\u001b[0m\u001b[0mcolumns\u001b[0m\u001b[1;33m.\u001b[0m\u001b[0mnlevels\u001b[0m \u001b[1;33m>\u001b[0m \u001b[1;36m1\u001b[0m\u001b[1;33m:\u001b[0m\u001b[1;33m\u001b[0m\u001b[1;33m\u001b[0m\u001b[0m\n\u001b[0;32m   3457\u001b[0m                 \u001b[1;32mreturn\u001b[0m \u001b[0mself\u001b[0m\u001b[1;33m.\u001b[0m\u001b[0m_getitem_multilevel\u001b[0m\u001b[1;33m(\u001b[0m\u001b[0mkey\u001b[0m\u001b[1;33m)\u001b[0m\u001b[1;33m\u001b[0m\u001b[1;33m\u001b[0m\u001b[0m\n\u001b[1;32m-> 3458\u001b[1;33m             \u001b[0mindexer\u001b[0m \u001b[1;33m=\u001b[0m \u001b[0mself\u001b[0m\u001b[1;33m.\u001b[0m\u001b[0mcolumns\u001b[0m\u001b[1;33m.\u001b[0m\u001b[0mget_loc\u001b[0m\u001b[1;33m(\u001b[0m\u001b[0mkey\u001b[0m\u001b[1;33m)\u001b[0m\u001b[1;33m\u001b[0m\u001b[1;33m\u001b[0m\u001b[0m\n\u001b[0m\u001b[0;32m   3459\u001b[0m             \u001b[1;32mif\u001b[0m \u001b[0mis_integer\u001b[0m\u001b[1;33m(\u001b[0m\u001b[0mindexer\u001b[0m\u001b[1;33m)\u001b[0m\u001b[1;33m:\u001b[0m\u001b[1;33m\u001b[0m\u001b[1;33m\u001b[0m\u001b[0m\n\u001b[0;32m   3460\u001b[0m                 \u001b[0mindexer\u001b[0m \u001b[1;33m=\u001b[0m \u001b[1;33m[\u001b[0m\u001b[0mindexer\u001b[0m\u001b[1;33m]\u001b[0m\u001b[1;33m\u001b[0m\u001b[1;33m\u001b[0m\u001b[0m\n",
      "\u001b[1;32mC:\\ProgramData\\Anaconda3\\lib\\site-packages\\pandas\\core\\indexes\\base.py\u001b[0m in \u001b[0;36mget_loc\u001b[1;34m(self, key, method, tolerance)\u001b[0m\n\u001b[0;32m   3359\u001b[0m             \u001b[0mcasted_key\u001b[0m \u001b[1;33m=\u001b[0m \u001b[0mself\u001b[0m\u001b[1;33m.\u001b[0m\u001b[0m_maybe_cast_indexer\u001b[0m\u001b[1;33m(\u001b[0m\u001b[0mkey\u001b[0m\u001b[1;33m)\u001b[0m\u001b[1;33m\u001b[0m\u001b[1;33m\u001b[0m\u001b[0m\n\u001b[0;32m   3360\u001b[0m             \u001b[1;32mtry\u001b[0m\u001b[1;33m:\u001b[0m\u001b[1;33m\u001b[0m\u001b[1;33m\u001b[0m\u001b[0m\n\u001b[1;32m-> 3361\u001b[1;33m                 \u001b[1;32mreturn\u001b[0m \u001b[0mself\u001b[0m\u001b[1;33m.\u001b[0m\u001b[0m_engine\u001b[0m\u001b[1;33m.\u001b[0m\u001b[0mget_loc\u001b[0m\u001b[1;33m(\u001b[0m\u001b[0mcasted_key\u001b[0m\u001b[1;33m)\u001b[0m\u001b[1;33m\u001b[0m\u001b[1;33m\u001b[0m\u001b[0m\n\u001b[0m\u001b[0;32m   3362\u001b[0m             \u001b[1;32mexcept\u001b[0m \u001b[0mKeyError\u001b[0m \u001b[1;32mas\u001b[0m \u001b[0merr\u001b[0m\u001b[1;33m:\u001b[0m\u001b[1;33m\u001b[0m\u001b[1;33m\u001b[0m\u001b[0m\n\u001b[0;32m   3363\u001b[0m                 \u001b[1;32mraise\u001b[0m \u001b[0mKeyError\u001b[0m\u001b[1;33m(\u001b[0m\u001b[0mkey\u001b[0m\u001b[1;33m)\u001b[0m \u001b[1;32mfrom\u001b[0m \u001b[0merr\u001b[0m\u001b[1;33m\u001b[0m\u001b[1;33m\u001b[0m\u001b[0m\n",
      "\u001b[1;32mC:\\ProgramData\\Anaconda3\\lib\\site-packages\\pandas\\_libs\\index.pyx\u001b[0m in \u001b[0;36mpandas._libs.index.IndexEngine.get_loc\u001b[1;34m()\u001b[0m\n",
      "\u001b[1;32mC:\\ProgramData\\Anaconda3\\lib\\site-packages\\pandas\\_libs\\index.pyx\u001b[0m in \u001b[0;36mpandas._libs.index.IndexEngine.get_loc\u001b[1;34m()\u001b[0m\n",
      "\u001b[1;31mTypeError\u001b[0m: '(Ellipsis, slice(0, 200, None))' is an invalid key"
     ]
    }
   ],
   "source": [
    "dataset = {'input': x_train.T, 'output': y_train.T}\n",
    "\n",
    "v_dataset = {'input': x_valid.T, 'output': y_valid.T}\n",
    "\n",
    "\n",
    "model_obj = Model([784, 100, 100, 10], 1, activation=lambda x: np.maximum(x, 0))\n",
    "acc_history_train, acc_history_val, cost_history_train, cost_history_val =train(model_obj, dataset, v_dataset, ce_loss,\n",
    "                                                                                0.1, 1000, 10)"
   ]
  },
  {
   "cell_type": "code",
   "execution_count": 281,
   "id": "a906216e",
   "metadata": {},
   "outputs": [
    {
     "ename": "NameError",
     "evalue": "name 'acc_history_train' is not defined",
     "output_type": "error",
     "traceback": [
      "\u001b[1;31m---------------------------------------------------------------------------\u001b[0m",
      "\u001b[1;31mNameError\u001b[0m                                 Traceback (most recent call last)",
      "\u001b[1;32m~\\AppData\\Local\\Temp/ipykernel_31468/1216606814.py\u001b[0m in \u001b[0;36m<module>\u001b[1;34m\u001b[0m\n\u001b[0;32m      3\u001b[0m \u001b[0mgs\u001b[0m \u001b[1;33m=\u001b[0m \u001b[0mgridspec\u001b[0m\u001b[1;33m.\u001b[0m\u001b[0mGridSpec\u001b[0m\u001b[1;33m(\u001b[0m\u001b[1;36m1\u001b[0m\u001b[1;33m,\u001b[0m \u001b[1;36m2\u001b[0m\u001b[1;33m)\u001b[0m\u001b[1;33m\u001b[0m\u001b[1;33m\u001b[0m\u001b[0m\n\u001b[0;32m      4\u001b[0m \u001b[1;33m\u001b[0m\u001b[0m\n\u001b[1;32m----> 5\u001b[1;33m \u001b[0mplt\u001b[0m\u001b[1;33m.\u001b[0m\u001b[0msubplot\u001b[0m\u001b[1;33m(\u001b[0m\u001b[0mgs\u001b[0m\u001b[1;33m[\u001b[0m\u001b[1;36m1\u001b[0m\u001b[1;33m]\u001b[0m\u001b[1;33m)\u001b[0m\u001b[1;33m.\u001b[0m\u001b[0mplot\u001b[0m\u001b[1;33m(\u001b[0m\u001b[0mnp\u001b[0m\u001b[1;33m.\u001b[0m\u001b[0marange\u001b[0m\u001b[1;33m(\u001b[0m\u001b[0mlen\u001b[0m\u001b[1;33m(\u001b[0m\u001b[0macc_history_train\u001b[0m\u001b[1;33m)\u001b[0m\u001b[1;33m)\u001b[0m\u001b[1;33m,\u001b[0m \u001b[0macc_history_train\u001b[0m\u001b[1;33m,\u001b[0m \u001b[0mlabel\u001b[0m\u001b[1;33m=\u001b[0m\u001b[1;34m\"train\"\u001b[0m\u001b[1;33m)\u001b[0m\u001b[1;33m\u001b[0m\u001b[1;33m\u001b[0m\u001b[0m\n\u001b[0m\u001b[0;32m      6\u001b[0m \u001b[0mplt\u001b[0m\u001b[1;33m.\u001b[0m\u001b[0msubplot\u001b[0m\u001b[1;33m(\u001b[0m\u001b[0mgs\u001b[0m\u001b[1;33m[\u001b[0m\u001b[1;36m1\u001b[0m\u001b[1;33m]\u001b[0m\u001b[1;33m)\u001b[0m\u001b[1;33m.\u001b[0m\u001b[0mplot\u001b[0m\u001b[1;33m(\u001b[0m\u001b[0mnp\u001b[0m\u001b[1;33m.\u001b[0m\u001b[0marange\u001b[0m\u001b[1;33m(\u001b[0m\u001b[0mlen\u001b[0m\u001b[1;33m(\u001b[0m\u001b[0macc_history_val\u001b[0m\u001b[1;33m)\u001b[0m\u001b[1;33m)\u001b[0m\u001b[1;33m,\u001b[0m \u001b[0macc_history_val\u001b[0m\u001b[1;33m,\u001b[0m \u001b[0mlabel\u001b[0m\u001b[1;33m=\u001b[0m\u001b[1;34m'validation'\u001b[0m\u001b[1;33m)\u001b[0m\u001b[1;33m\u001b[0m\u001b[1;33m\u001b[0m\u001b[0m\n\u001b[0;32m      7\u001b[0m \u001b[0mplt\u001b[0m\u001b[1;33m.\u001b[0m\u001b[0msubplot\u001b[0m\u001b[1;33m(\u001b[0m\u001b[0mgs\u001b[0m\u001b[1;33m[\u001b[0m\u001b[1;36m1\u001b[0m\u001b[1;33m]\u001b[0m\u001b[1;33m)\u001b[0m\u001b[1;33m.\u001b[0m\u001b[0mlegend\u001b[0m\u001b[1;33m(\u001b[0m\u001b[1;33m)\u001b[0m\u001b[1;33m\u001b[0m\u001b[1;33m\u001b[0m\u001b[0m\n",
      "\u001b[1;31mNameError\u001b[0m: name 'acc_history_train' is not defined"
     ]
    },
    {
     "data": {
      "image/png": "[encoded data removed]",
      "text/plain": [
       "<Figure size 432x288 with 1 Axes>"
      ]
     },
     "metadata": {
      "needs_background": "light"
     },
     "output_type": "display_data"
    }
   ],
   "source": [
    "fig = plt.figure()\n",
    "\n",
    "gs = gridspec.GridSpec(1, 2)\n",
    "\n",
    "plt.subplot(gs[1]).plot(np.arange(len(acc_history_train)), acc_history_train, label=\"train\")\n",
    "plt.subplot(gs[1]).plot(np.arange(len(acc_history_val)), acc_history_val, label='validation')\n",
    "plt.subplot(gs[1]).legend()\n",
    "plt.subplot(gs[1]).set_xlabel('epoch')\n",
    "plt.subplot(gs[1]).set_ylabel('accuracy')\n",
    "\n",
    "\n",
    "plt.subplot(gs[0]).plot(np.arange(len(cost_history_train)), cost_history_train)\n",
    "plt.subplot(gs[0]).plot(np.arange(len(cost_history_val)), cost_history_val)\n",
    "plt.subplot(gs[0]).set_xlabel('epoch')\n",
    "plt.subplot(gs[0]).set_ylabel('cost')\n",
    "plt.show()"
   ]
  },
  {
   "cell_type": "code",
   "execution_count": null,
   "id": "8d19de29",
   "metadata": {},
   "outputs": [],
   "source": []
  }
 ],
 "metadata": {
  "kernelspec": {
   "display_name": "Python 3 (ipykernel)",
   "language": "python",
   "name": "python3"
  },
  "language_info": {
   "codemirror_mode": {
    "name": "ipython",
    "version": 3
   },
   "file_extension": ".py",
   "mimetype": "text/x-python",
   "name": "python",
   "nbconvert_exporter": "python",
   "pygments_lexer": "ipython3",
   "version": "3.9.7"
  }
 },
 "nbformat": 4,
 "nbformat_minor": 5
}
